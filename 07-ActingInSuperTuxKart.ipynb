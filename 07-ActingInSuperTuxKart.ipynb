{
  "cells": [
    {
      "cell_type": "code",
      "execution_count": 2,
      "metadata": {
        "id": "eRYc6w8p6ULg",
        "outputId": "10231d95-7dca-46c5-ba42-27bdd9826227",
        "colab": {
          "base_uri": "https://localhost:8080/"
        }
      },
      "outputs": [
        {
          "output_type": "stream",
          "name": "stdout",
          "text": [
            "Populating the interactive namespace from numpy and matplotlib\n",
            "Collecting PySuperTuxKart\n",
            "  Downloading PySuperTuxKart-1.1.2-cp310-cp310-manylinux_2_12_x86_64.manylinux2010_x86_64.whl (4.4 MB)\n",
            "\u001b[2K     \u001b[90m━━━━━━━━━━━━━━━━━━━━━━━━━━━━━━━━━━━━━━━━\u001b[0m \u001b[32m4.4/4.4 MB\u001b[0m \u001b[31m19.0 MB/s\u001b[0m eta \u001b[36m0:00:00\u001b[0m\n",
            "\u001b[?25hCollecting PySuperTuxKartData (from PySuperTuxKart)\n",
            "  Downloading PySuperTuxKartData-1.0.0.tar.gz (2.6 kB)\n",
            "  Installing build dependencies ... \u001b[?25l\u001b[?25hdone\n",
            "  Getting requirements to build wheel ... \u001b[?25l\u001b[?25hdone\n",
            "  Preparing metadata (pyproject.toml) ... \u001b[?25l\u001b[?25hdone\n",
            "Requirement already satisfied: requests in /usr/local/lib/python3.10/dist-packages (from PySuperTuxKartData->PySuperTuxKart) (2.31.0)\n",
            "Requirement already satisfied: charset-normalizer<4,>=2 in /usr/local/lib/python3.10/dist-packages (from requests->PySuperTuxKartData->PySuperTuxKart) (3.3.2)\n",
            "Requirement already satisfied: idna<4,>=2.5 in /usr/local/lib/python3.10/dist-packages (from requests->PySuperTuxKartData->PySuperTuxKart) (3.7)\n",
            "Requirement already satisfied: urllib3<3,>=1.21.1 in /usr/local/lib/python3.10/dist-packages (from requests->PySuperTuxKartData->PySuperTuxKart) (2.0.7)\n",
            "Requirement already satisfied: certifi>=2017.4.17 in /usr/local/lib/python3.10/dist-packages (from requests->PySuperTuxKartData->PySuperTuxKart) (2024.2.2)\n",
            "Building wheels for collected packages: PySuperTuxKartData\n",
            "  Building wheel for PySuperTuxKartData (pyproject.toml) ... \u001b[?25l\u001b[?25hdone\n",
            "  Created wheel for PySuperTuxKartData: filename=PySuperTuxKartData-1.0.0-py3-none-any.whl size=620700371 sha256=390c34efcdda165428bd8023fe7edc5072c572922961b6adbcbd5f907b8b78f1\n",
            "  Stored in directory: /root/.cache/pip/wheels/5b/da/db/107e5e579034a950bc34417909d989352cd89aa65988af479f\n",
            "Successfully built PySuperTuxKartData\n",
            "Installing collected packages: PySuperTuxKartData, PySuperTuxKart\n",
            "Successfully installed PySuperTuxKart-1.1.2 PySuperTuxKartData-1.0.0\n",
            "device =  cuda\n"
          ]
        }
      ],
      "source": [
        "%pylab inline\n",
        "%pip install -U PySuperTuxKart\n",
        "import torch\n",
        "import sys, os\n",
        "import pystk\n",
        "device = torch.device('cuda') if torch.cuda.is_available() else torch.device('cpu')\n",
        "print('device = ', device)"
      ]
    },
    {
      "cell_type": "code",
      "execution_count": 3,
      "metadata": {
        "id": "hBfJHbRX6ULh"
      },
      "outputs": [],
      "source": [
        "class Rollout:\n",
        "    def __init__(self, screen_width, screen_height, hd=True, track='lighthouse', render=True):\n",
        "        # Init supertuxkart\n",
        "        if not render: # no render\n",
        "            config = pystk.GraphicsConfig.none()\n",
        "        elif hd: #HD graphics\n",
        "            config = pystk.GraphicsConfig.hd()\n",
        "        else: # Low definition graphics\n",
        "            config = pystk.GraphicsConfig.ld()\n",
        "        config.screen_width = screen_width\n",
        "        config.screen_height = screen_height\n",
        "        pystk.init(config) # initialize super tux kart\n",
        "\n",
        "        self.render = render # say if rendering images or not\n",
        "        race_config = pystk.RaceConfig(track=track) # start race in super tux kart, takes track as input\n",
        "        self.race = pystk.Race(race_config) # create race\n",
        "        self.race.start() # start race\n",
        "\n",
        "    def __call__(self, agent, n_steps=200): # in order to actually race... need agent\n",
        "        self.race.restart() # restart the level\n",
        "        self.race.step() # first step (starts rendering engine to produce images)\n",
        "        data = [] # initialize data\n",
        "        track_info = pystk.Track() # get track info\n",
        "        track_info.update() # update track info (static)\n",
        "\n",
        "        for i in range(n_steps):\n",
        "            world_info = pystk.WorldState() # world state can change (locaiton of items, other player, etc)\n",
        "            world_info.update() # update world info\n",
        "\n",
        "            # Gather world information\n",
        "            kart_info = world_info.players[0].kart # get info about player's own kart\n",
        "\n",
        "            agent_data = {'track_info': track_info, 'kart_info': kart_info} # store data in agent info\n",
        "            if self.render: # if rendering, will also store image into data\n",
        "                agent_data['image'] = np.array(self.race.render_data[0].image)\n",
        "\n",
        "            # Act\n",
        "            action = agent(**agent_data) # determine action to take by inputting the agent data\n",
        "            agent_data['action'] = action # store action taken in agent data\n",
        "\n",
        "            # Take a step in the simulation\n",
        "            self.race.step(action) # take one step in simulator\n",
        "\n",
        "            # Save all the relevant data\n",
        "            data.append(agent_data) # save all of the data\n",
        "        return data"
      ]
    },
    {
      "cell_type": "code",
      "execution_count": 4,
      "metadata": {
        "id": "SemwcEi_6ULi"
      },
      "outputs": [],
      "source": [
        "def dummy_agent(**kwargs): # Dummy agent, ignores entire state of super tux kart\n",
        "    action = pystk.Action() # action\n",
        "    action.acceleration = 1 # only action is to accelerate\n",
        "    return action"
      ]
    },
    {
      "cell_type": "code",
      "execution_count": 1,
      "metadata": {
        "id": "RMqJSL-h6ULi",
        "outputId": "feb6d894-55c0-4cb2-d7f7-99a087706705",
        "colab": {
          "base_uri": "https://localhost:8080/",
          "height": 211
        }
      },
      "outputs": [
        {
          "output_type": "error",
          "ename": "NameError",
          "evalue": "name 'Rollout' is not defined",
          "traceback": [
            "\u001b[0;31m---------------------------------------------------------------------------\u001b[0m",
            "\u001b[0;31mNameError\u001b[0m                                 Traceback (most recent call last)",
            "\u001b[0;32m<ipython-input-1-64aec21a51df>\u001b[0m in \u001b[0;36m<cell line: 1>\u001b[0;34m()\u001b[0m\n\u001b[0;32m----> 1\u001b[0;31m \u001b[0mrollout\u001b[0m \u001b[0;34m=\u001b[0m \u001b[0mRollout\u001b[0m\u001b[0;34m(\u001b[0m\u001b[0;36m800\u001b[0m\u001b[0;34m,\u001b[0m \u001b[0;36m600\u001b[0m\u001b[0;34m)\u001b[0m \u001b[0;31m# create rollout object\u001b[0m\u001b[0;34m\u001b[0m\u001b[0;34m\u001b[0m\u001b[0m\n\u001b[0m\u001b[1;32m      2\u001b[0m \u001b[0;34m\u001b[0m\u001b[0m\n\u001b[1;32m      3\u001b[0m \u001b[0;32mdef\u001b[0m \u001b[0mrollout_many\u001b[0m\u001b[0;34m(\u001b[0m\u001b[0mmany_agents\u001b[0m\u001b[0;34m,\u001b[0m \u001b[0;34m**\u001b[0m\u001b[0mkwargs\u001b[0m\u001b[0;34m)\u001b[0m\u001b[0;34m:\u001b[0m\u001b[0;34m\u001b[0m\u001b[0;34m\u001b[0m\u001b[0m\n\u001b[1;32m      4\u001b[0m     \u001b[0;32mfor\u001b[0m \u001b[0magent\u001b[0m \u001b[0;32min\u001b[0m \u001b[0mmany_agents\u001b[0m\u001b[0;34m:\u001b[0m\u001b[0;34m\u001b[0m\u001b[0;34m\u001b[0m\u001b[0m\n\u001b[1;32m      5\u001b[0m         \u001b[0;32myield\u001b[0m \u001b[0mrollout\u001b[0m\u001b[0;34m(\u001b[0m\u001b[0magent\u001b[0m\u001b[0;34m,\u001b[0m \u001b[0;34m**\u001b[0m\u001b[0mkwargs\u001b[0m\u001b[0;34m)\u001b[0m\u001b[0;34m\u001b[0m\u001b[0;34m\u001b[0m\u001b[0m\n",
            "\u001b[0;31mNameError\u001b[0m: name 'Rollout' is not defined"
          ]
        }
      ],
      "source": [
        "rollout = Rollout(800, 600) # create rollout object\n",
        "\n",
        "def rollout_many(many_agents, **kwargs):\n",
        "    for agent in many_agents:\n",
        "        yield rollout(agent, **kwargs)\n",
        "\n",
        "data = rollout(dummy_agent)"
      ]
    },
    {
      "cell_type": "code",
      "execution_count": null,
      "metadata": {
        "id": "5KfLufyc6ULi"
      },
      "outputs": [],
      "source": [
        "def show_video(frames, fps=30):\n",
        "    import imageio\n",
        "    from IPython.display import Video, display\n",
        "\n",
        "    imageio.mimwrite('/tmp/test.mp4', frames, fps=fps, bitrate=10000000)\n",
        "    display(Video('/tmp/test.mp4', width=800, height=600, embed=True))\n",
        "\n",
        "show_video([d['image'] for d in data])"
      ]
    },
    {
      "cell_type": "code",
      "execution_count": null,
      "metadata": {
        "id": "rmOBiCkY6ULj"
      },
      "outputs": [],
      "source": [
        "def show_agent(agent, **kwargs): # rolls out agent and displays video\n",
        "    data = rollout(agent, **kwargs)\n",
        "    show_video([d['image'] for d in data])"
      ]
    },
    {
      "cell_type": "code",
      "execution_count": null,
      "metadata": {
        "scrolled": false,
        "id": "N84z2qe96ULj"
      },
      "outputs": [],
      "source": [
        "def less_dummy_agent(**kwargs): # smarter agent that also steers\n",
        "    action = pystk.Action()\n",
        "    action.acceleration = 1\n",
        "    action.steer = -0.6\n",
        "    return action\n",
        "show_agent(less_dummy_agent)"
      ]
    },
    {
      "cell_type": "code",
      "execution_count": null,
      "metadata": {
        "id": "27D6kV186ULj"
      },
      "outputs": [],
      "source": [
        "# Let's load a fancy auto-pilot. You'll write one yourself in your homework.\n",
        "from _auto_pilot import auto_pilot\n",
        "\n",
        "show_agent(auto_pilot, n_steps=600)"
      ]
    },
    {
      "cell_type": "code",
      "execution_count": null,
      "metadata": {
        "id": "3YvSk26C6ULj"
      },
      "outputs": [],
      "source": []
    }
  ],
  "metadata": {
    "kernelspec": {
      "display_name": "Python 3",
      "name": "python3"
    },
    "language_info": {
      "codemirror_mode": {
        "name": "ipython",
        "version": 3
      },
      "file_extension": ".py",
      "mimetype": "text/x-python",
      "name": "python",
      "nbconvert_exporter": "python",
      "pygments_lexer": "ipython3",
      "version": "3.8.10"
    },
    "colab": {
      "provenance": [],
      "machine_shape": "hm",
      "gpuType": "L4"
    },
    "accelerator": "GPU"
  },
  "nbformat": 4,
  "nbformat_minor": 0
}