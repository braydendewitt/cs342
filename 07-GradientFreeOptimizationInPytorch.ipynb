{
  "cells": [
    {
      "cell_type": "code",
      "execution_count": null,
      "metadata": {
        "id": "Ov4ifx3sXDU7",
        "outputId": "5e5de155-1ca5-4249-a8f6-dd455fc8d477"
      },
      "outputs": [
        {
          "name": "stdout",
          "output_type": "stream",
          "text": [
            "Populating the interactive namespace from numpy and matplotlib\n"
          ]
        },
        {
          "name": "stderr",
          "output_type": "stream",
          "text": [
            "/home/philkr/.local/lib/python3.8/site-packages/ray/autoscaler/_private/cli_logger.py:57: FutureWarning: Not all Ray CLI dependencies were found. In Ray 1.4+, the Ray CLI, autoscaler, and dashboard will only be usable via `pip install 'ray[default]'`. Please update your install command.\n",
            "  warnings.warn(\n"
          ]
        },
        {
          "name": "stdout",
          "output_type": "stream",
          "text": [
            "device =  cuda\n"
          ]
        },
        {
          "data": {
            "text/plain": [
              "{'node_ip_address': '128.83.143.189',\n",
              " 'raylet_ip_address': '128.83.143.189',\n",
              " 'redis_address': '128.83.143.189:6379',\n",
              " 'object_store_address': '/tmp/ray/session_2021-09-10_14-35-52_461220_544108/sockets/plasma_store',\n",
              " 'raylet_socket_name': '/tmp/ray/session_2021-09-10_14-35-52_461220_544108/sockets/raylet',\n",
              " 'webui_url': '127.0.0.1:8265',\n",
              " 'session_dir': '/tmp/ray/session_2021-09-10_14-35-52_461220_544108',\n",
              " 'metrics_export_port': 61287,\n",
              " 'node_id': '3d607b234774bf9382a32107f579c8ab270c6fc1c381ea41a2caee9c'}"
            ]
          },
          "execution_count": 1,
          "metadata": {},
          "output_type": "execute_result"
        }
      ],
      "source": [
        "%pylab inline\n",
        "import torch\n",
        "import sys, os\n",
        "import pystk\n",
        "import ray\n",
        "device = torch.device('cuda') if torch.cuda.is_available() else torch.device('cpu')\n",
        "print('device = ', device)\n",
        "ray.init(logging_level=50)"
      ]
    },
    {
      "cell_type": "code",
      "execution_count": null,
      "metadata": {
        "id": "FcwVxgjVXDU9"
      },
      "outputs": [],
      "source": [
        "@ray.remote\n",
        "class Rollout:\n",
        "    def __init__(self, screen_width, screen_height, hd=True, track='lighthouse', render=True, frame_skip=1):\n",
        "        # Init supertuxkart\n",
        "        if not render:\n",
        "            config = pystk.GraphicsConfig.none()\n",
        "        elif hd:\n",
        "            config = pystk.GraphicsConfig.hd()\n",
        "        else:\n",
        "            config = pystk.GraphicsConfig.ld()\n",
        "        config.screen_width = screen_width\n",
        "        config.screen_height = screen_height\n",
        "        pystk.init(config)\n",
        "\n",
        "        self.frame_skip = frame_skip\n",
        "        self.render = render\n",
        "        race_config = pystk.RaceConfig(track=track)\n",
        "        self.race = pystk.Race(race_config)\n",
        "        self.race.start()\n",
        "\n",
        "    def __call__(self, agent, n_steps=200):\n",
        "        torch.set_num_threads(1)\n",
        "        self.race.restart()\n",
        "        self.race.step()\n",
        "        data = []\n",
        "        track_info = pystk.Track()\n",
        "        track_info.update()\n",
        "\n",
        "        for i in range(n_steps // self.frame_skip):\n",
        "            world_info = pystk.WorldState()\n",
        "            world_info.update()\n",
        "\n",
        "            # Gather world information\n",
        "            kart_info = world_info.players[0].kart\n",
        "\n",
        "            agent_data = {'track_info': track_info, 'kart_info': kart_info}\n",
        "            if self.render:\n",
        "                agent_data['image'] = np.array(self.race.render_data[0].image)\n",
        "\n",
        "            # Act\n",
        "            action = agent(**agent_data)\n",
        "            agent_data['action'] = action\n",
        "\n",
        "            # Take a step in the simulation\n",
        "            for it in range(self.frame_skip):\n",
        "                self.race.step(action)\n",
        "\n",
        "            # Save all the relevant data\n",
        "            data.append(agent_data)\n",
        "        return data\n",
        "\n",
        "def show_video(frames, fps=30):\n",
        "    import imageio\n",
        "    from IPython.display import Video, display\n",
        "\n",
        "    imageio.mimwrite('/tmp/test.mp4', frames, fps=fps, bitrate=1000000)\n",
        "    display(Video('/tmp/test.mp4', width=800, height=600, embed=True))\n",
        "\n",
        "viz_rollout = Rollout.remote(400, 300)\n",
        "def show_agent(agent, n_steps=600):\n",
        "    data = ray.get(viz_rollout.__call__.remote(agent, n_steps=n_steps))\n",
        "    show_video([d['image'] for d in data])\n",
        "\n",
        "rollouts = [Rollout.remote(50, 50, hd=False, render=False, frame_skip=5) for i in range(10)]\n",
        "def rollout_many(many_agents, **kwargs):\n",
        "    ray_data = []\n",
        "    for i, agent in enumerate(many_agents):\n",
        "         ray_data.append( rollouts[i % len(rollouts)].__call__.remote(agent, **kwargs) )\n",
        "    return ray.get(ray_data)\n",
        "\n",
        "def dummy_agent(**kwargs):\n",
        "    action = pystk.Action()\n",
        "    action.acceleration = 1\n",
        "    return action"
      ]
    },
    {
      "cell_type": "code",
      "execution_count": null,
      "metadata": {
        "id": "t0B9o-KtXDU9",
        "outputId": "c724902b-9e3c-4a74-fe04-f359740e650e"
      },
      "outputs": [
        {
          "name": "stdout",
          "output_type": "stream",
          "text": [
            "\u001b[2m\u001b[36m(pid=544552)\u001b[0m \u001b[1;31m[fatal  ] FileManager: Failed to locate PySuperTuxKartData. Got '/home/philkr/.local/lib/python3.8/site-packages/pystk_data', but data not found!\n",
            "\u001b[2m\u001b[36m(pid=544552)\u001b[0m \u001b[0;;m\n",
            "\u001b[2m\u001b[36m(pid=544551)\u001b[0m \u001b[1;31m[fatal  ] FileManager: Failed to locate PySuperTuxKartData. Got '/home/philkr/.local/lib/python3.8/site-packages/pystk_data', but data not found!\n",
            "\u001b[2m\u001b[36m(pid=544551)\u001b[0m \u001b[0;;m\n",
            "\u001b[2m\u001b[36m(pid=544556)\u001b[0m \u001b[1;31m[fatal  ] FileManager: Failed to locate PySuperTuxKartData. Got '/home/philkr/.local/lib/python3.8/site-packages/pystk_data', but data not found!\n",
            "\u001b[2m\u001b[36m(pid=544556)\u001b[0m \u001b[0;;m\n",
            "\u001b[2m\u001b[36m(pid=544553)\u001b[0m \u001b[1;31m[fatal  ] FileManager: Failed to locate PySuperTuxKartData. Got '/home/philkr/.local/lib/python3.8/site-packages/pystk_data', but data not found!\n",
            "\u001b[2m\u001b[36m(pid=544553)\u001b[0m \u001b[0;;m\n",
            "\u001b[2m\u001b[36m(pid=544545)\u001b[0m \u001b[1;31m[fatal  ] FileManager: Failed to locate PySuperTuxKartData. Got '/home/philkr/.local/lib/python3.8/site-packages/pystk_data', but data not found!\n",
            "\u001b[2m\u001b[36m(pid=544545)\u001b[0m \u001b[0;;m\n",
            "\u001b[2m\u001b[36m(pid=544555)\u001b[0m \u001b[1;31m[fatal  ] FileManager: Failed to locate PySuperTuxKartData. Got '/home/philkr/.local/lib/python3.8/site-packages/pystk_data', but data not found!\n",
            "\u001b[2m\u001b[36m(pid=544555)\u001b[0m \u001b[0;;m\n"
          ]
        },
        {
          "name": "stderr",
          "output_type": "stream",
          "text": [
            "\u001b[2m\u001b[36m(pid=544545)\u001b[0m 2021-09-10 14:35:55,381\tERROR worker.py:421 -- Exception raised in creation task: The actor died because of an error raised in its creation task, \u001b[36mray::Rollout.__init__()\u001b[39m (pid=544545, ip=128.83.143.189)\n",
            "\u001b[2m\u001b[36m(pid=544545)\u001b[0m   File \"python/ray/_raylet.pyx\", line 534, in ray._raylet.execute_task\n",
            "\u001b[2m\u001b[36m(pid=544545)\u001b[0m   File \"python/ray/_raylet.pyx\", line 484, in ray._raylet.execute_task.function_executor\n",
            "\u001b[2m\u001b[36m(pid=544545)\u001b[0m   File \"/home/philkr/.local/lib/python3.8/site-packages/ray/_private/function_manager.py\", line 563, in actor_method_executor\n",
            "\u001b[2m\u001b[36m(pid=544545)\u001b[0m     return method(__ray_actor, *args, **kwargs)\n",
            "\u001b[2m\u001b[36m(pid=544545)\u001b[0m   File \"<ipython-input-2-9634ba3e13e3>\", line 13, in __init__\n",
            "\u001b[2m\u001b[36m(pid=544545)\u001b[0m RuntimeError: Log::fatal\n",
            "\u001b[2m\u001b[36m(pid=544552)\u001b[0m 2021-09-10 14:35:55,403\tERROR worker.py:421 -- Exception raised in creation task: The actor died because of an error raised in its creation task, \u001b[36mray::Rollout.__init__()\u001b[39m (pid=544552, ip=128.83.143.189)\n",
            "\u001b[2m\u001b[36m(pid=544552)\u001b[0m   File \"python/ray/_raylet.pyx\", line 534, in ray._raylet.execute_task\n",
            "\u001b[2m\u001b[36m(pid=544552)\u001b[0m   File \"python/ray/_raylet.pyx\", line 484, in ray._raylet.execute_task.function_executor\n",
            "\u001b[2m\u001b[36m(pid=544552)\u001b[0m   File \"/home/philkr/.local/lib/python3.8/site-packages/ray/_private/function_manager.py\", line 563, in actor_method_executor\n",
            "\u001b[2m\u001b[36m(pid=544552)\u001b[0m     return method(__ray_actor, *args, **kwargs)\n",
            "\u001b[2m\u001b[36m(pid=544552)\u001b[0m   File \"<ipython-input-2-9634ba3e13e3>\", line 13, in __init__\n",
            "\u001b[2m\u001b[36m(pid=544552)\u001b[0m RuntimeError: Log::fatal\n",
            "\u001b[2m\u001b[36m(pid=544551)\u001b[0m 2021-09-10 14:35:55,363\tERROR worker.py:421 -- Exception raised in creation task: The actor died because of an error raised in its creation task, \u001b[36mray::Rollout.__init__()\u001b[39m (pid=544551, ip=128.83.143.189)\n",
            "\u001b[2m\u001b[36m(pid=544551)\u001b[0m   File \"python/ray/_raylet.pyx\", line 534, in ray._raylet.execute_task\n",
            "\u001b[2m\u001b[36m(pid=544551)\u001b[0m   File \"python/ray/_raylet.pyx\", line 484, in ray._raylet.execute_task.function_executor\n",
            "\u001b[2m\u001b[36m(pid=544551)\u001b[0m   File \"/home/philkr/.local/lib/python3.8/site-packages/ray/_private/function_manager.py\", line 563, in actor_method_executor\n",
            "\u001b[2m\u001b[36m(pid=544551)\u001b[0m     return method(__ray_actor, *args, **kwargs)\n",
            "\u001b[2m\u001b[36m(pid=544551)\u001b[0m   File \"<ipython-input-2-9634ba3e13e3>\", line 13, in __init__\n",
            "\u001b[2m\u001b[36m(pid=544551)\u001b[0m RuntimeError: Log::fatal\n",
            "\u001b[2m\u001b[36m(pid=544556)\u001b[0m 2021-09-10 14:35:55,413\tERROR worker.py:421 -- Exception raised in creation task: The actor died because of an error raised in its creation task, \u001b[36mray::Rollout.__init__()\u001b[39m (pid=544556, ip=128.83.143.189)\n",
            "\u001b[2m\u001b[36m(pid=544556)\u001b[0m   File \"python/ray/_raylet.pyx\", line 534, in ray._raylet.execute_task\n",
            "\u001b[2m\u001b[36m(pid=544556)\u001b[0m   File \"python/ray/_raylet.pyx\", line 484, in ray._raylet.execute_task.function_executor\n",
            "\u001b[2m\u001b[36m(pid=544556)\u001b[0m   File \"/home/philkr/.local/lib/python3.8/site-packages/ray/_private/function_manager.py\", line 563, in actor_method_executor\n",
            "\u001b[2m\u001b[36m(pid=544556)\u001b[0m     return method(__ray_actor, *args, **kwargs)\n",
            "\u001b[2m\u001b[36m(pid=544556)\u001b[0m   File \"<ipython-input-2-9634ba3e13e3>\", line 13, in __init__\n",
            "\u001b[2m\u001b[36m(pid=544556)\u001b[0m RuntimeError: Log::fatal\n",
            "\u001b[2m\u001b[36m(pid=544548)\u001b[0m 2021-09-10 14:35:55,536\tERROR worker.py:421 -- Exception raised in creation task: The actor died because of an error raised in its creation task, \u001b[36mray::Rollout.__init__()\u001b[39m (pid=544548, ip=128.83.143.189)\n",
            "\u001b[2m\u001b[36m(pid=544548)\u001b[0m   File \"python/ray/_raylet.pyx\", line 534, in ray._raylet.execute_task\n",
            "\u001b[2m\u001b[36m(pid=544548)\u001b[0m   File \"python/ray/_raylet.pyx\", line 484, in ray._raylet.execute_task.function_executor\n",
            "\u001b[2m\u001b[36m(pid=544548)\u001b[0m   File \"/home/philkr/.local/lib/python3.8/site-packages/ray/_private/function_manager.py\", line 563, in actor_method_executor\n",
            "\u001b[2m\u001b[36m(pid=544548)\u001b[0m     return method(__ray_actor, *args, **kwargs)\n",
            "\u001b[2m\u001b[36m(pid=544548)\u001b[0m   File \"<ipython-input-2-9634ba3e13e3>\", line 13, in __init__\n",
            "\u001b[2m\u001b[36m(pid=544548)\u001b[0m RuntimeError: Log::fatal\n",
            "\u001b[2m\u001b[36m(pid=544553)\u001b[0m 2021-09-10 14:35:55,504\tERROR worker.py:421 -- Exception raised in creation task: The actor died because of an error raised in its creation task, \u001b[36mray::Rollout.__init__()\u001b[39m (pid=544553, ip=128.83.143.189)\n",
            "\u001b[2m\u001b[36m(pid=544553)\u001b[0m   File \"python/ray/_raylet.pyx\", line 534, in ray._raylet.execute_task\n",
            "\u001b[2m\u001b[36m(pid=544553)\u001b[0m   File \"python/ray/_raylet.pyx\", line 484, in ray._raylet.execute_task.function_executor\n",
            "\u001b[2m\u001b[36m(pid=544553)\u001b[0m   File \"/home/philkr/.local/lib/python3.8/site-packages/ray/_private/function_manager.py\", line 563, in actor_method_executor\n",
            "\u001b[2m\u001b[36m(pid=544553)\u001b[0m     return method(__ray_actor, *args, **kwargs)\n",
            "\u001b[2m\u001b[36m(pid=544553)\u001b[0m   File \"<ipython-input-2-9634ba3e13e3>\", line 13, in __init__\n",
            "\u001b[2m\u001b[36m(pid=544553)\u001b[0m RuntimeError: Log::fatal\n",
            "\u001b[2m\u001b[36m(pid=544547)\u001b[0m 2021-09-10 14:35:55,488\tERROR worker.py:421 -- Exception raised in creation task: The actor died because of an error raised in its creation task, \u001b[36mray::Rollout.__init__()\u001b[39m (pid=544547, ip=128.83.143.189)\n",
            "\u001b[2m\u001b[36m(pid=544547)\u001b[0m   File \"python/ray/_raylet.pyx\", line 534, in ray._raylet.execute_task\n",
            "\u001b[2m\u001b[36m(pid=544547)\u001b[0m   File \"python/ray/_raylet.pyx\", line 484, in ray._raylet.execute_task.function_executor\n",
            "\u001b[2m\u001b[36m(pid=544547)\u001b[0m   File \"/home/philkr/.local/lib/python3.8/site-packages/ray/_private/function_manager.py\", line 563, in actor_method_executor\n",
            "\u001b[2m\u001b[36m(pid=544547)\u001b[0m     return method(__ray_actor, *args, **kwargs)\n",
            "\u001b[2m\u001b[36m(pid=544547)\u001b[0m   File \"<ipython-input-2-9634ba3e13e3>\", line 13, in __init__\n",
            "\u001b[2m\u001b[36m(pid=544547)\u001b[0m RuntimeError: Log::fatal\n",
            "\u001b[2m\u001b[36m(pid=544554)\u001b[0m 2021-09-10 14:35:55,498\tERROR worker.py:421 -- Exception raised in creation task: The actor died because of an error raised in its creation task, \u001b[36mray::Rollout.__init__()\u001b[39m (pid=544554, ip=128.83.143.189)\n",
            "\u001b[2m\u001b[36m(pid=544554)\u001b[0m   File \"python/ray/_raylet.pyx\", line 534, in ray._raylet.execute_task\n",
            "\u001b[2m\u001b[36m(pid=544554)\u001b[0m   File \"python/ray/_raylet.pyx\", line 484, in ray._raylet.execute_task.function_executor\n",
            "\u001b[2m\u001b[36m(pid=544554)\u001b[0m   File \"/home/philkr/.local/lib/python3.8/site-packages/ray/_private/function_manager.py\", line 563, in actor_method_executor\n",
            "\u001b[2m\u001b[36m(pid=544554)\u001b[0m     return method(__ray_actor, *args, **kwargs)\n",
            "\u001b[2m\u001b[36m(pid=544554)\u001b[0m   File \"<ipython-input-2-9634ba3e13e3>\", line 13, in __init__\n",
            "\u001b[2m\u001b[36m(pid=544554)\u001b[0m RuntimeError: Log::fatal\n",
            "\u001b[2m\u001b[36m(pid=544550)\u001b[0m 2021-09-10 14:35:55,461\tERROR worker.py:421 -- Exception raised in creation task: The actor died because of an error raised in its creation task, \u001b[36mray::Rollout.__init__()\u001b[39m (pid=544550, ip=128.83.143.189)\n",
            "\u001b[2m\u001b[36m(pid=544550)\u001b[0m   File \"python/ray/_raylet.pyx\", line 534, in ray._raylet.execute_task\n",
            "\u001b[2m\u001b[36m(pid=544550)\u001b[0m   File \"python/ray/_raylet.pyx\", line 484, in ray._raylet.execute_task.function_executor\n",
            "\u001b[2m\u001b[36m(pid=544550)\u001b[0m   File \"/home/philkr/.local/lib/python3.8/site-packages/ray/_private/function_manager.py\", line 563, in actor_method_executor\n",
            "\u001b[2m\u001b[36m(pid=544550)\u001b[0m     return method(__ray_actor, *args, **kwargs)\n",
            "\u001b[2m\u001b[36m(pid=544550)\u001b[0m   File \"<ipython-input-2-9634ba3e13e3>\", line 13, in __init__\n",
            "\u001b[2m\u001b[36m(pid=544550)\u001b[0m RuntimeError: Log::fatal\n",
            "\u001b[2m\u001b[36m(pid=544555)\u001b[0m 2021-09-10 14:35:55,481\tERROR worker.py:421 -- Exception raised in creation task: The actor died because of an error raised in its creation task, \u001b[36mray::Rollout.__init__()\u001b[39m (pid=544555, ip=128.83.143.189)\n",
            "\u001b[2m\u001b[36m(pid=544555)\u001b[0m   File \"python/ray/_raylet.pyx\", line 534, in ray._raylet.execute_task\n",
            "\u001b[2m\u001b[36m(pid=544555)\u001b[0m   File \"python/ray/_raylet.pyx\", line 484, in ray._raylet.execute_task.function_executor\n",
            "\u001b[2m\u001b[36m(pid=544555)\u001b[0m   File \"/home/philkr/.local/lib/python3.8/site-packages/ray/_private/function_manager.py\", line 563, in actor_method_executor\n",
            "\u001b[2m\u001b[36m(pid=544555)\u001b[0m     return method(__ray_actor, *args, **kwargs)\n",
            "\u001b[2m\u001b[36m(pid=544555)\u001b[0m   File \"<ipython-input-2-9634ba3e13e3>\", line 13, in __init__\n",
            "\u001b[2m\u001b[36m(pid=544555)\u001b[0m RuntimeError: Log::fatal\n",
            "\u001b[2m\u001b[36m(pid=544549)\u001b[0m 2021-09-10 14:35:55,476\tERROR worker.py:421 -- Exception raised in creation task: The actor died because of an error raised in its creation task, \u001b[36mray::Rollout.__init__()\u001b[39m (pid=544549, ip=128.83.143.189)\n",
            "\u001b[2m\u001b[36m(pid=544549)\u001b[0m   File \"python/ray/_raylet.pyx\", line 534, in ray._raylet.execute_task\n",
            "\u001b[2m\u001b[36m(pid=544549)\u001b[0m   File \"python/ray/_raylet.pyx\", line 484, in ray._raylet.execute_task.function_executor\n",
            "\u001b[2m\u001b[36m(pid=544549)\u001b[0m   File \"/home/philkr/.local/lib/python3.8/site-packages/ray/_private/function_manager.py\", line 563, in actor_method_executor\n",
            "\u001b[2m\u001b[36m(pid=544549)\u001b[0m     return method(__ray_actor, *args, **kwargs)\n",
            "\u001b[2m\u001b[36m(pid=544549)\u001b[0m   File \"<ipython-input-2-9634ba3e13e3>\", line 13, in __init__\n",
            "\u001b[2m\u001b[36m(pid=544549)\u001b[0m RuntimeError: Log::fatal\n"
          ]
        },
        {
          "ename": "RayActorError",
          "evalue": "The actor died because of an error raised in its creation task, \u001b[36mray::Rollout.__init__()\u001b[39m (pid=544549, ip=128.83.143.189)\n  File \"python/ray/_raylet.pyx\", line 534, in ray._raylet.execute_task\n  File \"python/ray/_raylet.pyx\", line 484, in ray._raylet.execute_task.function_executor\n  File \"/home/philkr/.local/lib/python3.8/site-packages/ray/_private/function_manager.py\", line 563, in actor_method_executor\n    return method(__ray_actor, *args, **kwargs)\n  File \"<ipython-input-2-9634ba3e13e3>\", line 13, in __init__\nRuntimeError: Log::fatal",
          "output_type": "error",
          "traceback": [
            "\u001b[0;31m---------------------------------------------------------------------------\u001b[0m",
            "\u001b[0;31mRayActorError\u001b[0m                             Traceback (most recent call last)",
            "\u001b[0;32m<ipython-input-3-a03f9e0c3999>\u001b[0m in \u001b[0;36m<module>\u001b[0;34m\u001b[0m\n\u001b[1;32m     28\u001b[0m \u001b[0;31m# Let's load a fancy auto-pilot. You'll write one yourself in your homework.\u001b[0m\u001b[0;34m\u001b[0m\u001b[0;34m\u001b[0m\u001b[0;34m\u001b[0m\u001b[0m\n\u001b[1;32m     29\u001b[0m \u001b[0;32mfrom\u001b[0m \u001b[0m_auto_pilot\u001b[0m \u001b[0;32mimport\u001b[0m \u001b[0mauto_pilot\u001b[0m\u001b[0;34m\u001b[0m\u001b[0;34m\u001b[0m\u001b[0m\n\u001b[0;32m---> 30\u001b[0;31m \u001b[0mdata\u001b[0m\u001b[0;34m,\u001b[0m \u001b[0;34m=\u001b[0m \u001b[0mrollout_many\u001b[0m\u001b[0;34m(\u001b[0m\u001b[0;34m[\u001b[0m\u001b[0mauto_pilot\u001b[0m\u001b[0;34m]\u001b[0m\u001b[0;34m,\u001b[0m \u001b[0mn_steps\u001b[0m\u001b[0;34m=\u001b[0m\u001b[0;36m400\u001b[0m\u001b[0;34m)\u001b[0m\u001b[0;34m\u001b[0m\u001b[0;34m\u001b[0m\u001b[0m\n\u001b[0m\u001b[1;32m     31\u001b[0m \u001b[0;34m\u001b[0m\u001b[0m\n\u001b[1;32m     32\u001b[0m \u001b[0mfigure\u001b[0m\u001b[0;34m(\u001b[0m\u001b[0;34m)\u001b[0m\u001b[0;34m\u001b[0m\u001b[0;34m\u001b[0m\u001b[0m\n",
            "\u001b[0;32m<ipython-input-2-9634ba3e13e3>\u001b[0m in \u001b[0;36mrollout_many\u001b[0;34m(many_agents, **kwargs)\u001b[0m\n\u001b[1;32m     67\u001b[0m     \u001b[0;32mfor\u001b[0m \u001b[0mi\u001b[0m\u001b[0;34m,\u001b[0m \u001b[0magent\u001b[0m \u001b[0;32min\u001b[0m \u001b[0menumerate\u001b[0m\u001b[0;34m(\u001b[0m\u001b[0mmany_agents\u001b[0m\u001b[0;34m)\u001b[0m\u001b[0;34m:\u001b[0m\u001b[0;34m\u001b[0m\u001b[0;34m\u001b[0m\u001b[0m\n\u001b[1;32m     68\u001b[0m          \u001b[0mray_data\u001b[0m\u001b[0;34m.\u001b[0m\u001b[0mappend\u001b[0m\u001b[0;34m(\u001b[0m \u001b[0mrollouts\u001b[0m\u001b[0;34m[\u001b[0m\u001b[0mi\u001b[0m \u001b[0;34m%\u001b[0m \u001b[0mlen\u001b[0m\u001b[0;34m(\u001b[0m\u001b[0mrollouts\u001b[0m\u001b[0;34m)\u001b[0m\u001b[0;34m]\u001b[0m\u001b[0;34m.\u001b[0m\u001b[0m__call__\u001b[0m\u001b[0;34m.\u001b[0m\u001b[0mremote\u001b[0m\u001b[0;34m(\u001b[0m\u001b[0magent\u001b[0m\u001b[0;34m,\u001b[0m \u001b[0;34m**\u001b[0m\u001b[0mkwargs\u001b[0m\u001b[0;34m)\u001b[0m \u001b[0;34m)\u001b[0m\u001b[0;34m\u001b[0m\u001b[0;34m\u001b[0m\u001b[0m\n\u001b[0;32m---> 69\u001b[0;31m     \u001b[0;32mreturn\u001b[0m \u001b[0mray\u001b[0m\u001b[0;34m.\u001b[0m\u001b[0mget\u001b[0m\u001b[0;34m(\u001b[0m\u001b[0mray_data\u001b[0m\u001b[0;34m)\u001b[0m\u001b[0;34m\u001b[0m\u001b[0;34m\u001b[0m\u001b[0m\n\u001b[0m\u001b[1;32m     70\u001b[0m \u001b[0;34m\u001b[0m\u001b[0m\n\u001b[1;32m     71\u001b[0m \u001b[0;32mdef\u001b[0m \u001b[0mdummy_agent\u001b[0m\u001b[0;34m(\u001b[0m\u001b[0;34m**\u001b[0m\u001b[0mkwargs\u001b[0m\u001b[0;34m)\u001b[0m\u001b[0;34m:\u001b[0m\u001b[0;34m\u001b[0m\u001b[0;34m\u001b[0m\u001b[0m\n",
            "\u001b[0;32m~/.local/lib/python3.8/site-packages/ray/_private/client_mode_hook.py\u001b[0m in \u001b[0;36mwrapper\u001b[0;34m(*args, **kwargs)\u001b[0m\n\u001b[1;32m     80\u001b[0m         \u001b[0;32mif\u001b[0m \u001b[0mclient_mode_should_convert\u001b[0m\u001b[0;34m(\u001b[0m\u001b[0;34m)\u001b[0m\u001b[0;34m:\u001b[0m\u001b[0;34m\u001b[0m\u001b[0;34m\u001b[0m\u001b[0m\n\u001b[1;32m     81\u001b[0m             \u001b[0;32mreturn\u001b[0m \u001b[0mgetattr\u001b[0m\u001b[0;34m(\u001b[0m\u001b[0mray\u001b[0m\u001b[0;34m,\u001b[0m \u001b[0mfunc\u001b[0m\u001b[0;34m.\u001b[0m\u001b[0m__name__\u001b[0m\u001b[0;34m)\u001b[0m\u001b[0;34m(\u001b[0m\u001b[0;34m*\u001b[0m\u001b[0margs\u001b[0m\u001b[0;34m,\u001b[0m \u001b[0;34m**\u001b[0m\u001b[0mkwargs\u001b[0m\u001b[0;34m)\u001b[0m\u001b[0;34m\u001b[0m\u001b[0;34m\u001b[0m\u001b[0m\n\u001b[0;32m---> 82\u001b[0;31m         \u001b[0;32mreturn\u001b[0m \u001b[0mfunc\u001b[0m\u001b[0;34m(\u001b[0m\u001b[0;34m*\u001b[0m\u001b[0margs\u001b[0m\u001b[0;34m,\u001b[0m \u001b[0;34m**\u001b[0m\u001b[0mkwargs\u001b[0m\u001b[0;34m)\u001b[0m\u001b[0;34m\u001b[0m\u001b[0;34m\u001b[0m\u001b[0m\n\u001b[0m\u001b[1;32m     83\u001b[0m \u001b[0;34m\u001b[0m\u001b[0m\n\u001b[1;32m     84\u001b[0m     \u001b[0;32mreturn\u001b[0m \u001b[0mwrapper\u001b[0m\u001b[0;34m\u001b[0m\u001b[0;34m\u001b[0m\u001b[0m\n",
            "\u001b[0;32m~/.local/lib/python3.8/site-packages/ray/worker.py\u001b[0m in \u001b[0;36mget\u001b[0;34m(object_refs, timeout)\u001b[0m\n\u001b[1;32m   1564\u001b[0m                     \u001b[0;32mraise\u001b[0m \u001b[0mvalue\u001b[0m\u001b[0;34m.\u001b[0m\u001b[0mas_instanceof_cause\u001b[0m\u001b[0;34m(\u001b[0m\u001b[0;34m)\u001b[0m\u001b[0;34m\u001b[0m\u001b[0;34m\u001b[0m\u001b[0m\n\u001b[1;32m   1565\u001b[0m                 \u001b[0;32melse\u001b[0m\u001b[0;34m:\u001b[0m\u001b[0;34m\u001b[0m\u001b[0;34m\u001b[0m\u001b[0m\n\u001b[0;32m-> 1566\u001b[0;31m                     \u001b[0;32mraise\u001b[0m \u001b[0mvalue\u001b[0m\u001b[0;34m\u001b[0m\u001b[0;34m\u001b[0m\u001b[0m\n\u001b[0m\u001b[1;32m   1567\u001b[0m \u001b[0;34m\u001b[0m\u001b[0m\n\u001b[1;32m   1568\u001b[0m         \u001b[0;32mif\u001b[0m \u001b[0mis_individual_id\u001b[0m\u001b[0;34m:\u001b[0m\u001b[0;34m\u001b[0m\u001b[0;34m\u001b[0m\u001b[0m\n",
            "\u001b[0;31mRayActorError\u001b[0m: The actor died because of an error raised in its creation task, \u001b[36mray::Rollout.__init__()\u001b[39m (pid=544549, ip=128.83.143.189)\n  File \"python/ray/_raylet.pyx\", line 534, in ray._raylet.execute_task\n  File \"python/ray/_raylet.pyx\", line 484, in ray._raylet.execute_task.function_executor\n  File \"/home/philkr/.local/lib/python3.8/site-packages/ray/_private/function_manager.py\", line 563, in actor_method_executor\n    return method(__ray_actor, *args, **kwargs)\n  File \"<ipython-input-2-9634ba3e13e3>\", line 13, in __init__\nRuntimeError: Log::fatal"
          ]
        }
      ],
      "source": [
        "def three_points_on_track(distance, track):\n",
        "    distance = np.clip(distance, track.path_distance[0,0], track.path_distance[-1,1]).astype(np.float32)\n",
        "    valid_node = (track.path_distance[..., 0] <= distance) & (distance <= track.path_distance[..., 1])\n",
        "    valid_node_idx, = np.where(valid_node)\n",
        "    node_idx = valid_node_idx[0] # np.random.choice(valid_node_idx)\n",
        "    d = track.path_distance[node_idx].astype(np.float32)\n",
        "    x = track.path_nodes[node_idx][:,[0,2]].astype(np.float32) # Ignore the y coordinate\n",
        "    w, = track.path_width[node_idx].astype(np.float32)\n",
        "\n",
        "    t = (distance - d[0]) / (d[1] - d[0])\n",
        "    mid = x[1] * t + x[0] * (1 - t)\n",
        "    x10 = (x[1] - x[0]) / np.linalg.norm(x[1]-x[0])\n",
        "    x10_ortho = np.array([-x10[1],x10[0]], dtype=float32)\n",
        "    return mid - w / 2 * x10_ortho, mid, mid + w / 2 * x10_ortho\n",
        "\n",
        "\n",
        "def state_features(track_info, kart_info, absolute=False, **kwargs):\n",
        "    f = np.concatenate([three_points_on_track(kart_info.distance_down_track + d, track_info) for d in [0,5,10,15,20]])\n",
        "    if absolute:\n",
        "        return f\n",
        "    p = np.array(kart_info.location)[[0,2]].astype(np.float32)\n",
        "    t = np.array(kart_info.front)[[0,2]].astype(np.float32)\n",
        "    f = f - p[None]\n",
        "    d = (p-t) / np.linalg.norm(p-t)\n",
        "    d_o = np.array([-d[1], d[0]], dtype=float32)\n",
        "    return np.stack([f.dot(d), f.dot(d_o)], axis=1)\n",
        "\n",
        "# Let's load a fancy auto-pilot. You'll write one yourself in your homework.\n",
        "from _auto_pilot import auto_pilot\n",
        "data, = rollout_many([auto_pilot], n_steps=400)\n",
        "\n",
        "figure()\n",
        "f = state_features(**data[50])\n",
        "plot(f[:,1].flat, f[:,0].flat, '*')\n",
        "axis('equal')\n",
        "gca().invert_yaxis()\n",
        "\n",
        "figure()\n",
        "for d in data:\n",
        "    f = state_features(**d, absolute=True)\n",
        "    plot(f[:,1].flat, f[:,0].flat, '*')\n",
        "axis('equal')\n",
        "gca().invert_yaxis()"
      ]
    },
    {
      "cell_type": "code",
      "execution_count": null,
      "metadata": {
        "id": "iDcfWES_XDU-"
      },
      "outputs": [],
      "source": [
        "# START OF GRADIENT FREE OPTIMIZATION\n",
        "\n",
        "\n",
        "def new_action_net():\n",
        "    return torch.nn.Linear(2*5*3, 1, bias=False) # linear classifier with no bias\n",
        "\n",
        "class Actor:\n",
        "    def __init__(self, action_net):\n",
        "        self.action_net = action_net.cpu().eval()\n",
        "\n",
        "    def __call__(self, track_info, kart_info, **kwargs):\n",
        "        f = state_features(track_info, kart_info)\n",
        "        output = self.action_net(torch.as_tensor(f).view(1,-1))[0] # output of network\n",
        "\n",
        "        action = pystk.Action()\n",
        "        action.acceleration = 1 # always accelerating\n",
        "        action.steer = output[0] # steering is according to output of our network, no drifting or any other actions\n",
        "        return action"
      ]
    },
    {
      "cell_type": "code",
      "execution_count": null,
      "metadata": {
        "id": "ZtwtljUMXDU-"
      },
      "outputs": [],
      "source": [
        "action_net = new_action_net() # create instance of agent\n",
        "show_agent(Actor(action_net)) # show the agent"
      ]
    },
    {
      "cell_type": "code",
      "execution_count": null,
      "metadata": {
        "id": "GqGCqtucXDU-"
      },
      "outputs": [],
      "source": [
        "many_action_nets = [new_action_net() for i in range(10)] # create action nets\n",
        "\n",
        "data = rollout_many([Actor(action_net) for action_net in many_action_nets], n_steps=600) # rollout actor for each\n",
        "\n",
        "good_initialization = many_action_nets[ np.argmax([d[-1]['kart_info'].overall_distance for d in data]) ] # pick the good initialization as the arg max of the action nets"
      ]
    },
    {
      "cell_type": "code",
      "execution_count": null,
      "metadata": {
        "id": "yyrQCFehXDU-"
      },
      "outputs": [],
      "source": [
        "show_agent(Actor(good_initialization)) # shows good initialization agent"
      ]
    },
    {
      "cell_type": "code",
      "execution_count": null,
      "metadata": {
        "id": "ahEza_XLXDU-"
      },
      "outputs": [],
      "source": [
        "# iteratively randomly searching for better parameters of this policy\n",
        "\n",
        "import copy\n",
        "\n",
        "n_epochs = 20\n",
        "n_step = 20\n",
        "\n",
        "action_net = copy.deepcopy(good_initialization) # copy of initialization\n",
        "best_action_net = copy.deepcopy(good_initialization) # copy of best action net, currently just the initial one\n",
        "best_dist = 0\n",
        "\n",
        "for epoch in range(n_epochs):\n",
        "    eps = 1e-2\n",
        "\n",
        "    w = 1*action_net.weight.data\n",
        "\n",
        "    networks = []\n",
        "    ray_data = []\n",
        "    for i in range(n_step): # generate a bunch of networks with slight modifications\n",
        "        dp = torch.randn(w.shape) * eps # add random noise\n",
        "\n",
        "        # Try positive\n",
        "        action_net_dp = copy.deepcopy(action_net) # copy the network\n",
        "        action_net_dp.weight.data[:] += dp # update the weights\n",
        "\n",
        "        networks.append(action_net_dp)\n",
        "    data = rollout_many([Actor(network) for network in networks], n_steps=600) # evaluate all these networks for 600 time steps, compute distances traveled down track\n",
        "    distances = [d[-1]['kart_info'].overall_distance for d in data]\n",
        "    print(np.max(distances))\n",
        "    action_net = networks[np.argmax(distances)] # take the one with the best distance\n",
        "    if np.max(distances) > best_dist: # if actually better than previous best, save as new best action network\n",
        "        best_dist = np.max(distances)\n",
        "        best_action_net = action_net\n",
        ""
      ]
    },
    {
      "cell_type": "code",
      "execution_count": null,
      "metadata": {
        "id": "vdCBoVTjXDU_",
        "outputId": "719770fd-1c0a-4617-f4c7-1f23cb63ee98"
      },
      "outputs": [
        {
          "name": "stdout",
          "output_type": "stream",
          "text": [
            "\u001b[2m\u001b[36m(pid=544547)\u001b[0m \u001b[1;31m[fatal  ] FileManager: Failed to locate PySuperTuxKartData. Got '/home/philkr/.local/lib/python3.8/site-packages/pystk_data', but data not found!\n",
            "\u001b[2m\u001b[36m(pid=544547)\u001b[0m \u001b[0;;m\n",
            "\u001b[2m\u001b[36m(pid=544554)\u001b[0m \u001b[1;31m[fatal  ] FileManager: Failed to locate PySuperTuxKartData. Got '/home/philkr/.local/lib/python3.8/site-packages/pystk_data', but data not found!\n",
            "\u001b[2m\u001b[36m(pid=544554)\u001b[0m \u001b[0;;m\n",
            "\u001b[2m\u001b[36m(pid=544550)\u001b[0m \u001b[1;31m[fatal  ] FileManager: Failed to locate PySuperTuxKartData. Got '/home/philkr/.local/lib/python3.8/site-packages/pystk_data', but data not found!\n",
            "\u001b[2m\u001b[36m(pid=544550)\u001b[0m \u001b[0;;m\n",
            "\u001b[2m\u001b[36m(pid=544549)\u001b[0m \u001b[1;31m[fatal  ] FileManager: Failed to locate PySuperTuxKartData. Got '/home/philkr/.local/lib/python3.8/site-packages/pystk_data', but data not found!\n",
            "\u001b[2m\u001b[36m(pid=544549)\u001b[0m \u001b[0;;m\n"
          ]
        },
        {
          "ename": "NameError",
          "evalue": "name 'Actor' is not defined",
          "output_type": "error",
          "traceback": [
            "\u001b[0;31m---------------------------------------------------------------------------\u001b[0m",
            "\u001b[0;31mNameError\u001b[0m                                 Traceback (most recent call last)",
            "\u001b[0;32m<ipython-input-4-a53cfa78624d>\u001b[0m in \u001b[0;36m<module>\u001b[0;34m\u001b[0m\n\u001b[0;32m----> 1\u001b[0;31m \u001b[0mshow_agent\u001b[0m\u001b[0;34m(\u001b[0m\u001b[0mActor\u001b[0m\u001b[0;34m(\u001b[0m\u001b[0maction_net\u001b[0m\u001b[0;34m)\u001b[0m\u001b[0;34m)\u001b[0m\u001b[0;34m\u001b[0m\u001b[0;34m\u001b[0m\u001b[0m\n\u001b[0m\u001b[1;32m      2\u001b[0m \u001b[0;34m\u001b[0m\u001b[0m\n",
            "\u001b[0;31mNameError\u001b[0m: name 'Actor' is not defined"
          ]
        }
      ],
      "source": [
        "show_agent(Actor(action_net))"
      ]
    },
    {
      "cell_type": "code",
      "execution_count": null,
      "metadata": {
        "id": "_NPpKrE-XDU_"
      },
      "outputs": [],
      "source": []
    }
  ],
  "metadata": {
    "kernelspec": {
      "display_name": "Python 3",
      "name": "python3"
    },
    "language_info": {
      "codemirror_mode": {
        "name": "ipython",
        "version": 3
      },
      "file_extension": ".py",
      "mimetype": "text/x-python",
      "name": "python",
      "nbconvert_exporter": "python",
      "pygments_lexer": "ipython3",
      "version": "3.8.10"
    },
    "colab": {
      "provenance": []
    }
  },
  "nbformat": 4,
  "nbformat_minor": 0
}