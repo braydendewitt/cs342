{
  "cells": [
    {
      "cell_type": "code",
      "execution_count": 1,
      "metadata": {
        "colab": {
          "base_uri": "https://localhost:8080/"
        },
        "id": "J9jlrsLVaOvz",
        "outputId": "853ff734-c504-47ee-8b36-4430e2a9ce63"
      },
      "outputs": [
        {
          "output_type": "stream",
          "name": "stdout",
          "text": [
            "Populating the interactive namespace from numpy and matplotlib\n"
          ]
        }
      ],
      "source": [
        "%pylab inline\n",
        "import torch\n",
        "import torchvision\n",
        "from PIL import Image\n",
        "import json\n",
        "class_idx = json.load(open(\"imagenet_class_index.json\"))\n",
        "I1 = Image.open('dog.jpg')\n",
        "I2 = Image.open('cat.jpg')"
      ]
    },
    {
      "cell_type": "code",
      "execution_count": 2,
      "metadata": {
        "colab": {
          "base_uri": "https://localhost:8080/"
        },
        "id": "8gX67QSNaOv0",
        "outputId": "71efc3ed-d4ae-4b5f-9742-df7344431daa"
      },
      "outputs": [
        {
          "output_type": "stream",
          "name": "stderr",
          "text": [
            "/usr/local/lib/python3.10/dist-packages/torchvision/models/_utils.py:208: UserWarning: The parameter 'pretrained' is deprecated since 0.13 and may be removed in the future, please use 'weights' instead.\n",
            "  warnings.warn(\n",
            "/usr/local/lib/python3.10/dist-packages/torchvision/models/_utils.py:223: UserWarning: Arguments other than a weight enum or `None` for 'weights' are deprecated since 0.13 and may be removed in the future. The current behavior is equivalent to passing `weights=ResNeXt101_32X8D_Weights.IMAGENET1K_V1`. You can also use `weights=ResNeXt101_32X8D_Weights.DEFAULT` to get the most up-to-date weights.\n",
            "  warnings.warn(msg)\n",
            "Downloading: \"https://download.pytorch.org/models/resnext101_32x8d-8ba56ff5.pth\" to /root/.cache/torch/hub/checkpoints/resnext101_32x8d-8ba56ff5.pth\n"
          ]
        }
      ],
      "source": [
        "model = torchvision.models.resnext101_32x8d(pretrained=True, progress=False) # using ResNet\n",
        "# model = torchvision.models.mobilenet_v2(pretrained=True, progress=False)"
      ]
    },
    {
      "cell_type": "code",
      "execution_count": 4,
      "metadata": {
        "colab": {
          "base_uri": "https://localhost:8080/"
        },
        "id": "r4rZuEMNaOv0",
        "outputId": "d23ff092-f947-45ca-baa7-0d40ceb9b7e0"
      },
      "outputs": [
        {
          "output_type": "stream",
          "name": "stdout",
          "text": [
            "wire-haired_fox_terrier , toy_terrier , Brabancon_griffon , standard_schnauzer , Lakeland_terrier\n",
            "tiger_cat , tabby , Egyptian_cat , lynx , tiger\n"
          ]
        }
      ],
      "source": [
        "transform = torchvision.transforms.Compose([ # transform images to be valid for model\n",
        "    torchvision.transforms.Resize(224), # Scale to 224\n",
        "    torchvision.transforms.CenterCrop(224), # Crop to center\n",
        "    torchvision.transforms.ToTensor(), # Make tensor out of image\n",
        "    torchvision.transforms.Normalize(mean=[0.485, 0.456, 0.406], std=[0.229, 0.224, 0.225])]) # Normalize, copy mean and std dev values from online (normal values)\n",
        "\n",
        "model.eval() # Need to set model to evaluation mode so that training augmentations are not turned on\n",
        "\n",
        "p = model(transform(I1)[None])[0] # Model predicts label for I1 (dog)\n",
        "print( ' , '.join([class_idx[str(int(i))][1] for i in p.argsort(descending=True)[:5]]) ) # Print out prob, first 5 labels\n",
        "p = model(transform(I2)[None])[0] # Model predicts label for I2 (cat)\n",
        "print( ' , '.join([class_idx[str(int(i))][1] for i in p.argsort(descending=True)[:5]]) ) # Print out top 5 labels"
      ]
    },
    {
      "cell_type": "code",
      "execution_count": 5,
      "metadata": {
        "id": "6M31oBd1aOv1"
      },
      "outputs": [],
      "source": [
        "model.fc = torch.nn.Linear(2048, 10) # Set it to a 10 class classifier"
      ]
    },
    {
      "cell_type": "code",
      "execution_count": 7,
      "metadata": {
        "colab": {
          "base_uri": "https://localhost:8080/"
        },
        "id": "3m5lKPMJaOv1",
        "outputId": "e8d29064-a395-4e1e-b1e2-02b6d88657cf"
      },
      "outputs": [
        {
          "output_type": "execute_result",
          "data": {
            "text/plain": [
              "tensor([[-0.0619,  0.3418, -0.0826,  0.1336,  0.6247,  0.1160, -0.5546,  0.0695,\n",
              "         -0.4975, -0.2046]], grad_fn=<AddmmBackward0>)"
            ]
          },
          "metadata": {},
          "execution_count": 7
        }
      ],
      "source": [
        "model(transform(I1)[None]) # Now prints out 10 outputs, don't correspond to anything right now because we haven't trained this mdoel"
      ]
    },
    {
      "cell_type": "code",
      "execution_count": null,
      "metadata": {
        "id": "cP9yyT1QaOv1"
      },
      "outputs": [],
      "source": []
    }
  ],
  "metadata": {
    "kernelspec": {
      "display_name": "Python 3",
      "name": "python3"
    },
    "language_info": {
      "codemirror_mode": {
        "name": "ipython",
        "version": 3
      },
      "file_extension": ".py",
      "mimetype": "text/x-python",
      "name": "python",
      "nbconvert_exporter": "python",
      "pygments_lexer": "ipython3",
      "version": "3.7.3"
    },
    "colab": {
      "provenance": [],
      "gpuType": "T4"
    },
    "accelerator": "GPU"
  },
  "nbformat": 4,
  "nbformat_minor": 0
}