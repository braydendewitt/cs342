{
 "cells": [
  {
   "cell_type": "code",
   "execution_count": 1,
   "metadata": {},
   "outputs": [
    {
     "name": "stderr",
     "output_type": "stream",
     "text": [
      "2024-01-23 21:25:34.220695: I tensorflow/core/platform/cpu_feature_guard.cc:193] This TensorFlow binary is optimized with oneAPI Deep Neural Network Library (oneDNN) to use the following CPU instructions in performance-critical operations:  SSE4.1 SSE4.2 AVX AVX2 FMA\n",
      "To enable them in other operations, rebuild TensorFlow with the appropriate compiler flags.\n",
      "\n",
      "NOTE: Using experimental fast data loading logic. To disable, pass\n",
      "    \"--load_fast=false\" and report issues on GitHub. More details:\n",
      "    https://github.com/tensorflow/tensorboard/issues/4784\n",
      "\n"
     ]
    },
    {
     "name": "stdout",
     "output_type": "stream",
     "text": [
      "http://localhost:6006/\n"
     ]
    }
   ],
   "source": [
    "import torch\n",
    "import torch.utils.tensorboard as tb\n",
    "import numpy as np\n",
    "import tensorboard\n",
    "\n",
    "# Load tensorboard to monitor traning (pip install tensorboard)\n",
    "# if you have tb-nightly installed you will get a conflict between tensorboard and tb-nightly\n",
    "# (pip uninstall tb-nightly)\n",
    "\n",
    "# Creates a directory at the currect file location\n",
    "log_dir ='test_tb'\n",
    "tb_exe = tensorboard.program.TensorBoard()\n",
    "tb_exe.configure(logdir=log_dir)\n",
    "\n",
    "# Prints a link to your tensorboard\n",
    "print(tb_exe.launch())"
   ]
  },
  {
   "cell_type": "code",
   "execution_count": 2,
   "metadata": {},
   "outputs": [],
   "source": [
    "# Change \"experiment_1\" to experment_# and rerun to try multiple tests loading to tensorboard\n",
    "logger = tb.SummaryWriter(log_dir+'/experiment_1', flush_secs=1)\n",
    "logger.add_scalar('first/some_number', 0, global_step=1) # Scalar, global step is x-value, equivalent to (0,1)\n",
    "logger.add_scalar('first/some_number', 1, global_step=2) # Scalar, equivalent to (1,2) on plot"
   ]
  },
  {
   "cell_type": "code",
   "execution_count": 3,
   "metadata": {},
   "outputs": [],
   "source": [
    "# Adds histograms, good for visualizing distributions\n",
    "logger.add_histogram('plots/hist1', np.array([10,2,5,4,2]), global_step=1) # Gloabl step is the x-axis\n",
    "logger.add_histogram('plots/hist2', np.random.rand(20), global_step=1)"
   ]
  },
  {
   "cell_type": "code",
   "execution_count": 4,
   "metadata": {},
   "outputs": [],
   "source": [
    "# Adds image, creates 100x100 random pixels, global step of 1\n",
    "logger.add_image('img/1', (np.random.rand(3,100,100)*255).astype(np.uint8), global_step=1)"
   ]
  },
  {
   "cell_type": "code",
   "execution_count": 5,
   "metadata": {},
   "outputs": [],
   "source": [
    "# Add another histogram to same plot by changing global step to 2\n",
    "logger.add_histogram('plots/hist2', np.random.rand(20), global_step=2)"
   ]
  },
  {
   "cell_type": "code",
   "execution_count": 6,
   "metadata": {},
   "outputs": [],
   "source": [
    "# Add another image to same thing, using global step of 2\n",
    "logger.add_image('img/1', (np.random.rand(3,100,100)*255).astype(np.uint8), global_step=2)"
   ]
  },
  {
   "cell_type": "code",
   "execution_count": 7,
   "metadata": {},
   "outputs": [],
   "source": [
    "# Add noise, good value for smoothing is 0.9, tensorboard only uses past values not future, can get too far from actual function\n",
    "for i, x in enumerate(np.random.rand(100)):\n",
    "    logger.add_scalar('first/noise', x+0.1*i, global_step=i)"
   ]
  },
  {
   "cell_type": "code",
   "execution_count": 8,
   "metadata": {},
   "outputs": [],
   "source": [
    "# Pulled these commands from:\n",
    "# https://pytorch.org/tutorials/recipes/recipes/tensorboard_with_pytorch.html\n",
    "logger.flush()\n",
    "logger.close()"
   ]
  }
 ],
 "metadata": {
  "kernelspec": {
   "display_name": "Python 3 (ipykernel)",
   "language": "python",
   "name": "python3"
  },
  "language_info": {
   "codemirror_mode": {
    "name": "ipython",
    "version": 3
   },
   "file_extension": ".py",
   "mimetype": "text/x-python",
   "name": "python",
   "nbconvert_exporter": "python",
   "pygments_lexer": "ipython3",
   "version": "3.9.18"
  }
 },
 "nbformat": 4,
 "nbformat_minor": 2
}
